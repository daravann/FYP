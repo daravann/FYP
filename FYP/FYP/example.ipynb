{
 "cells": [
  {
   "cell_type": "code",
   "execution_count": 1,
   "id": "46e96a3b",
   "metadata": {},
   "outputs": [],
   "source": [
    "import numpy as np\n",
    "import ospgrillage as og\n",
    "from IPython import display  # to display images in this notebook\n",
    "%matplotlib inline"
   ]
  },
  {
   "cell_type": "code",
   "execution_count": null,
   "id": "739529e8",
   "metadata": {},
   "outputs": [],
   "source": [
    "# Adopted units: N and m\n",
    "kilo = 1e3\n",
    "milli = 1e-3\n",
    "N = 1\n",
    "m = 1\n",
    "mm = milli * m\n",
    "m2 = m ** 2\n",
    "m3 = m ** 3\n",
    "m4 = m ** 4\n",
    "kN = kilo * N\n",
    "MPa = N / ((mm) ** 2)\n",
    "GPa = kilo * MPa\n",
    "\n",
    "# parameters of bridge grillage\n",
    "L = 33.5 * m  # span\n",
    "w = 11.565 * m  # width\n",
    "n_l = 7  # number of longitudinal members\n",
    "n_t = 11  # number of transverse members\n",
    "edge_dist = 1.05 * m  # distance between edge beam and first exterior beam\n",
    "angle = 0  # skew angle"
   ]
  },
  {
   "cell_type": "code",
   "execution_count": null,
   "id": "a933c3e7",
   "metadata": {},
   "outputs": [],
   "source": [
    "# define material\n",
    "concrete = og.create_material(material=\"concrete\", code=\"AS5100-2017\", grade=\"65MPa\")"
   ]
  },
  {
   "cell_type": "code",
   "execution_count": null,
   "id": "2c5350d3",
   "metadata": {},
   "outputs": [],
   "source": [
    "edge_longitudinal_section = og.create_section(\n",
    "    A=0.934 * m2,\n",
    "    J=0.1857 * m3,\n",
    "    Iz=0.3478 * m4,\n",
    "    Iy=0.213602 * m4,\n",
    "    Az=0.444795 * m2,\n",
    "    Ay=0.258704 * m2,\n",
    ")\n",
    "\n",
    "longitudinal_section = og.create_section(\n",
    "    A=1.025 * m2,\n",
    "    J=0.1878 * m3,\n",
    "    Iz=0.3694 * m4,\n",
    "    Iy=0.113887e-3 * m4,\n",
    "    Az=0.0371929 * m2,\n",
    "    Ay=0.0371902 * m2,\n",
    ")\n",
    "\n",
    "transverse_section = og.create_section(\n",
    "    A=0.504 * m2,\n",
    "    J=5.22303e-3 * m3,\n",
    "    Iy=0.32928 * m4,\n",
    "    Iz=1.3608e-3 * m4,\n",
    "    Ay=0.42 * m2,\n",
    "    Az=0.42 * m2,\n",
    ")\n",
    "\n",
    "end_transverse_section = og.create_section(\n",
    "    A=0.504 / 2 * m2,\n",
    "    J=2.5012e-3 * m3,\n",
    "    Iy=0.04116 * m4,\n",
    "    Iz=0.6804e-3 * m4,\n",
    "    Ay=0.21 * m2,\n",
    "    Az=0.21 * m2,\n",
    ")"
   ]
  },
  {
   "cell_type": "code",
   "execution_count": null,
   "id": "c1ba75e5",
   "metadata": {},
   "outputs": [],
   "source": [
    "# define grillage members\n",
    "longitudinal_beam = og.create_member(section=longitudinal_section, material=concrete)\n",
    "edge_longitudinal_beam = og.create_member(\n",
    "    section=edge_longitudinal_section, material=concrete\n",
    ")\n",
    "transverse_slab = og.create_member(section=transverse_section, material=concrete)\n",
    "end_transverse_slab = og.create_member(\n",
    "    section=end_transverse_section, material=concrete\n",
    ")"
   ]
  },
  {
   "cell_type": "code",
   "execution_count": null,
   "id": "74ab526f",
   "metadata": {},
   "outputs": [],
   "source": [
    "# create grillage\n",
    "simple_grid = og.create_grillage(\n",
    "    bridge_name=\"Super-T 33_5m\",\n",
    "    long_dim=L,\n",
    "    width=w,\n",
    "    skew=angle,\n",
    "    num_long_grid=n_l,\n",
    "    num_trans_grid=n_t,\n",
    "    edge_beam_dist=edge_dist,\n",
    ")"
   ]
  },
  {
   "cell_type": "code",
   "execution_count": null,
   "id": "d6f4158f",
   "metadata": {},
   "outputs": [],
   "source": [
    "# assign grillage member to element groups of grillage model\n",
    "simple_grid.set_member(longitudinal_beam, member=\"interior_main_beam\")\n",
    "simple_grid.set_member(longitudinal_beam, member=\"exterior_main_beam_1\")\n",
    "simple_grid.set_member(longitudinal_beam, member=\"exterior_main_beam_2\")\n",
    "simple_grid.set_member(edge_longitudinal_beam, member=\"edge_beam\")\n",
    "simple_grid.set_member(transverse_slab, member=\"transverse_slab\")\n",
    "simple_grid.set_member(end_transverse_slab, member=\"start_edge\")\n",
    "simple_grid.set_member(end_transverse_slab, member=\"end_edge\")\n",
    "\n",
    "# create the model in OpenSees\n",
    "simple_grid.create_osp_model(\n",
    "    pyfile=False\n",
    ")  # pyfile will not (False) be generated for further analysis (should be create_osp?)\n",
    "og.opsplt.plot_model(\"nodes\")  # plotting using Get_rendering\n",
    "og.opsv.plot_model(az_el=(-90, 0),fig_wi_he=(32., 32.))  # plotting using ops_vis\n",
    "og.plt.show()"
   ]
  },
  {
   "cell_type": "code",
   "execution_count": null,
   "id": "a2c5ec89",
   "metadata": {},
   "outputs": [],
   "source": [
    "# reference unit load for various load types\n",
    "P = 1 * kN\n",
    "# name strings of load cases to be created\n",
    "static_cases_names = [\n",
    "    \"Line Test Case\",\n",
    "    \"Points Test Case (Global)\",\n",
    "    \"Points Test Case (Local in Point)\",\n",
    "    \"Patch Test Case\",\n",
    "]\n",
    "\n",
    "# Line load running along midspan width (P is kN/m)\n",
    "# Create vertical load points in global coordinate system\n",
    "line_point_1 = og.create_load_vertex(x=L / 2, z=0, p=P)\n",
    "line_point_2 = og.create_load_vertex(x=L / 2, z=w, p=P)\n",
    "test_line_load = og.create_load(\n",
    "    loadtype=\"line\",name=\"Test Load\", point1=line_point_1, point2=line_point_2,\n",
    ")\n",
    "\n",
    "# Create load case, add loads, and assign\n",
    "line_case = og.create_load_case(name=static_cases_names[0])\n",
    "line_case.add_load(test_line_load)\n",
    "\n",
    "simple_grid.add_load_case(line_case)"
   ]
  },
  {
   "cell_type": "code",
   "execution_count": null,
   "id": "8c1f253f",
   "metadata": {},
   "outputs": [],
   "source": [
    "# Compound point loads along midspan width (P is kN)\n",
    "# working in global coordinate system\n",
    "p_list = [\n",
    "    0,\n",
    "    edge_dist,\n",
    "    edge_dist + 2 * m,\n",
    "    edge_dist + 4 * m,\n",
    "    edge_dist + 6 * m,\n",
    "    w - edge_dist,\n",
    "    w,\n",
    "]  # creating list of load position\n",
    "\n",
    "test_points_load = og.create_compound_load(name=\"Points Test Case (Global)\")\n",
    "\n",
    "# create point load in global coordinate\n",
    "for p in p_list:\n",
    "    point = og.create_load(\n",
    "       loadtype = \"point\", name =\"Point\", point1=og.create_load_vertex(x=L / 2, z=p, p=P)\n",
    "    )\n",
    "    # add to compound load\n",
    "    test_points_load.add_load(load_obj=point)\n",
    "\n",
    "# Create load case, add loads, and assign\n",
    "points_case = og.create_load_case(name=static_cases_names[1])\n",
    "points_case.add_load(test_points_load)\n",
    "\n",
    "simple_grid.add_load_case(points_case)"
   ]
  },
  {
   "cell_type": "code",
   "execution_count": null,
   "id": "97fad66f",
   "metadata": {},
   "outputs": [],
   "source": [
    "simple_grid.analyze()\n",
    "results = simple_grid.get_results()\n",
    "# get list of longitudinal element tags along/near mid_span i.e. 84 to 90 in Figure 1\n",
    "ele_set = list(range(84, 90 + 1))\n",
    "# query\n",
    "extracted_bending = results.forces.sel(Loadcase=static_cases_names[1], Element=ele_set, Component=\"Mz_i\")"
   ]
  },
  {
   "cell_type": "code",
   "execution_count": null,
   "id": "b81afa19",
   "metadata": {},
   "outputs": [],
   "source": [
    "# Compound point loads along midspan width\n",
    "# working in user-defined local coordinate (in point load)\n",
    "test_points_load = og.create_compound_load(name=\"Points Test Case (Local in Point)\")\n",
    "\n",
    "# create point load in local coordinate space\n",
    "for p in p_list:\n",
    "    point = og.create_load(\n",
    "        loadtype = \"point\",name=\"Point\", point1=og.create_load_vertex(x=0, z=p, p=P)\n",
    "    )\n",
    "    # add to compound load\n",
    "    test_points_load.add_load(load_obj=point)\n",
    "\n",
    "# shift from local to global\n",
    "test_points_load.set_global_coord(og.Point(L / 2, 0, 0))\n",
    "\n",
    "# Create load case, add loads, and assign\n",
    "points_case = og.create_load_case(name=static_cases_names[2])\n",
    "points_case.add_load(test_points_load)\n",
    "\n",
    "simple_grid.add_load_case(points_case)"
   ]
  },
  {
   "cell_type": "code",
   "execution_count": null,
   "id": "449f7125",
   "metadata": {},
   "outputs": [],
   "source": [
    "# Compound point loads along midspan width (P is kN)\n",
    "# working in global coordinate system\n",
    "p_list = [\n",
    "    0,\n",
    "    edge_dist,\n",
    "    edge_dist + 2 * m,\n",
    "    edge_dist + 4 * m,\n",
    "    edge_dist + 6 * m,\n",
    "    w - edge_dist,\n",
    "    w,\n",
    "]  # creating list of load position\n",
    "\n",
    "test_points_load = og.create_compound_load(name=\"Points Test Case (Global)\")\n",
    "\n",
    "# create point load in global coordinate\n",
    "for p in p_list:\n",
    "    point = og.create_load(\n",
    "        loadtype=\"point\", name=\"Point\", point1=og.create_load_vertex(x=L / 2, z=p, p=P)\n",
    "    )\n",
    "    # add to compound load\n",
    "    test_points_load.add_load(load_obj=point)\n",
    "\n",
    "# Create load case, add loads, and assign\n",
    "points_case = og.create_load_case(name=static_cases_names[1])\n",
    "points_case.add_load(test_points_load)\n",
    "\n",
    "simple_grid.add_load_case(points_case)"
   ]
  },
  {
   "cell_type": "code",
   "execution_count": null,
   "id": "876960fa",
   "metadata": {},
   "outputs": [],
   "source": [
    "# Compound point loads along midspan width\n",
    "# working in user-defined local coordinate (in point load)\n",
    "test_points_load = og.create_compound_load(name=\"Points Test Case (Local in Point)\")\n",
    "\n",
    "# create point load in local coordinate space\n",
    "for p in p_list:\n",
    "    point = og.create_load(\n",
    "        loadtype = \"point\",name=\"Point\", point1=og.create_load_vertex(x=0, z=p, p=P)\n",
    "    )\n",
    "    # add to compound load\n",
    "    test_points_load.add_load(load_obj=point)\n",
    "\n",
    "# shift from local to global\n",
    "test_points_load.set_global_coord(og.Point(L / 2, 0, 0))\n",
    "\n",
    "# Create load case, add loads, and assign\n",
    "points_case = og.create_load_case(name=static_cases_names[2])\n",
    "points_case.add_load(test_points_load)\n",
    "\n",
    "simple_grid.add_load_case(points_case)\n"
   ]
  },
  {
   "cell_type": "code",
   "execution_count": null,
   "id": "a05f738a",
   "metadata": {},
   "outputs": [],
   "source": [
    "# Patch load over entire bridge deck (P is kN/m2)\n",
    "patch_point_1 = og.create_load_vertex(x=0, z=0, p=P)\n",
    "patch_point_2 = og.create_load_vertex(x=L, z=0, p=P)\n",
    "patch_point_3 = og.create_load_vertex(x=L, z=w, p=P)\n",
    "patch_point_4 = og.create_load_vertex(x=0, z=w, p=P)\n",
    "test_patch_load = og.create_load(\n",
    "    loadtype=\"patch\",\n",
    "    name=\"Test Load\",\n",
    "    point1=patch_point_1,\n",
    "    point2=patch_point_2,\n",
    "    point3=patch_point_3,\n",
    "    point4=patch_point_4,\n",
    ")\n",
    "\n",
    "# Create load case, add loads, and assign\n",
    "patch_case = og.create_load_case(name=static_cases_names[3])\n",
    "patch_case.add_load(test_patch_load)\n",
    "simple_grid.add_load_case(patch_case)"
   ]
  },
  {
   "cell_type": "code",
   "execution_count": null,
   "id": "02357c51",
   "metadata": {},
   "outputs": [],
   "source": [
    "simple_grid.analyze()"
   ]
  },
  {
   "cell_type": "code",
   "execution_count": null,
   "id": "2e49a94f",
   "metadata": {},
   "outputs": [],
   "source": [
    "results = simple_grid.get_results() # gets basic results"
   ]
  },
  {
   "cell_type": "code",
   "execution_count": null,
   "id": "700a69e1",
   "metadata": {},
   "outputs": [],
   "source": [
    "l_factor = 2.3\n",
    "p_factor = 0.5\n",
    "# combination with line load case and patch load case\n",
    "load_combinations = {static_cases_names[0]:l_factor,static_cases_names[-1]:p_factor}\n",
    "combination_results = simple_grid.get_results(combinations=load_combinations)"
   ]
  },
  {
   "cell_type": "code",
   "execution_count": null,
   "id": "5af7fc4c",
   "metadata": {},
   "outputs": [],
   "source": [
    "static_cases_names"
   ]
  },
  {
   "cell_type": "code",
   "execution_count": null,
   "id": "ead8e1bd",
   "metadata": {},
   "outputs": [],
   "source": [
    "# get list of longitudinal element tags along/near mid_span i.e. 84 to 90 in Figure 1\n",
    "ele_set = list(range(25, 30 + 1))\n",
    "# query\n",
    "extracted_bending = results.forces.sel(Loadcase=static_cases_names, Element=ele_set, Component=\"Mz_i\")"
   ]
  },
  {
   "cell_type": "code",
   "execution_count": null,
   "id": "da2d5886",
   "metadata": {},
   "outputs": [],
   "source": [
    "np.sum(\n",
    "np.array(\n",
    "    results.forces.sel(\n",
    "        Loadcase=static_cases_names, Element=ele_set, Component=\"Mz_i\"\n",
    "    )\n",
    "),\n",
    "axis=1,\n",
    ")"
   ]
  },
  {
   "cell_type": "code",
   "execution_count": null,
   "id": "15138c35",
   "metadata": {},
   "outputs": [],
   "source": [
    "sum_node_force = np.sum(\n",
    "    np.array(combination_results.forces.sel(Element=ele_set, Component=\"Mz_i\"))\n",
    ")"
   ]
  },
  {
   "cell_type": "code",
   "execution_count": null,
   "id": "423793a8",
   "metadata": {},
   "outputs": [],
   "source": [
    "print(sum_node_force)"
   ]
  },
  {
   "cell_type": "code",
   "execution_count": null,
   "id": "c943b99a",
   "metadata": {},
   "outputs": [],
   "source": [
    "og.plot_force(simple_grid,results, member=\"exterior_main_beam_2\", component=\"Mz\", loadcase = [\"Line Test Case\"])"
   ]
  },
  {
   "cell_type": "code",
   "execution_count": 3,
   "id": "8c611705",
   "metadata": {},
   "outputs": [
    {
     "ename": "NameError",
     "evalue": "name 'Material' is not defined",
     "output_type": "error",
     "traceback": [
      "\u001b[1;31m---------------------------------------------------------------------------\u001b[0m",
      "\u001b[1;31mNameError\u001b[0m                                 Traceback (most recent call last)",
      "Input \u001b[1;32mIn [3]\u001b[0m, in \u001b[0;36m<cell line: 1>\u001b[1;34m()\u001b[0m\n\u001b[1;32m----> 1\u001b[0m concrete \u001b[38;5;241m=\u001b[39m \u001b[43mMaterial\u001b[49m(\n\u001b[0;32m      2\u001b[0m     name\u001b[38;5;241m=\u001b[39m\u001b[38;5;124m\"\u001b[39m\u001b[38;5;124mconcrete\u001b[39m\u001b[38;5;124m\"\u001b[39m,\n\u001b[0;32m      3\u001b[0m     elastic_modulus\u001b[38;5;241m=\u001b[39m\u001b[38;5;241m30e3\u001b[39m,\n\u001b[0;32m      4\u001b[0m     poissons_ratio\u001b[38;5;241m=\u001b[39m\u001b[38;5;241m0.2\u001b[39m,\n\u001b[0;32m      5\u001b[0m     yield_strength\u001b[38;5;241m=\u001b[39m\u001b[38;5;241m350\u001b[39m,\n\u001b[0;32m      6\u001b[0m     density\u001b[38;5;241m=\u001b[39m\u001b[38;5;241m2.4e-6\u001b[39m,\n\u001b[0;32m      7\u001b[0m     color\u001b[38;5;241m=\u001b[39m\u001b[38;5;124m\"\u001b[39m\u001b[38;5;124mburlywood\u001b[39m\u001b[38;5;124m\"\u001b[39m,\n\u001b[0;32m      8\u001b[0m )\n\u001b[0;32m      9\u001b[0m \u001b[38;5;66;03m# create section of shell element\u001b[39;00m\n\u001b[0;32m     10\u001b[0m slab_shell_section \u001b[38;5;241m=\u001b[39m og\u001b[38;5;241m.\u001b[39mcreate_section(h\u001b[38;5;241m=\u001b[39m\u001b[38;5;241m0.2\u001b[39m) \u001b[38;5;66;03m# h = thickness\u001b[39;00m\n",
      "\u001b[1;31mNameError\u001b[0m: name 'Material' is not defined"
     ]
    }
   ],
   "source": [
    "\n",
    "# create section of shell element\n",
    "slab_shell_section = og.create_section(h=0.2) # h = thickness\n",
    "# shell elements for slab\n",
    "slab_shell = og.create_member(section=slab_shell_section, material=concrete)\n",
    "# create grillage with shell model type\n",
    "example_bridge = og.create_grillage(bridge_name=\"Shell grillage\", long_dim=10, width=7, skew=0,\n",
    "                                    num_long_grid=6, num_trans_grid=11, edge_beam_dist=1, mesh_type=\"Orth\",\n",
    "                                    model_type=\"shell_beam\", max_mesh_size_z=0.5, offset_beam_y_dist=0.499,\n",
    "                                    link_nodes_width=0.89, beam_width = 0.5)\n",
    "# set shell members to shell elements\n",
    "example_bridge.set_shell_members(slab_shell)"
   ]
  },
  {
   "cell_type": "code",
   "execution_count": null,
   "id": "9b33bcaa",
   "metadata": {},
   "outputs": [],
   "source": [
    "og.opsplt.plot_model(\"nodes\")  # plotting using Get_rendering\n",
    "og.opsv.plot_model(az_el=(-90, 0),fig_wi_he=(32., 32.))  # plotting using ops_vis\n",
    "og.plt.show()\n"
   ]
  },
  {
   "cell_type": "code",
   "execution_count": null,
   "id": "5c385075",
   "metadata": {},
   "outputs": [],
   "source": []
  }
 ],
 "metadata": {
  "kernelspec": {
   "display_name": "Python 3 (ipykernel)",
   "language": "python",
   "name": "python3"
  },
  "language_info": {
   "codemirror_mode": {
    "name": "ipython",
    "version": 3
   },
   "file_extension": ".py",
   "mimetype": "text/x-python",
   "name": "python",
   "nbconvert_exporter": "python",
   "pygments_lexer": "ipython3",
   "version": "3.9.0"
  }
 },
 "nbformat": 4,
 "nbformat_minor": 5
}
